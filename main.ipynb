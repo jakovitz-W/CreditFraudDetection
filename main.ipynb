{
  "cells": [
    {
      "cell_type": "markdown",
      "metadata": {
        "id": "fd4X9eVVcoOb"
      },
      "source": [
        "NOTE: Dataset is too large to be committed to github, download & move csv file into working directory"
      ]
    },
    {
      "cell_type": "code",
      "execution_count": null,
      "metadata": {
        "id": "ovHkF5zQcoOe"
      },
      "outputs": [],
      "source": [
        "%pip install matplotlib\n",
        "%pip install pandas"
      ]
    },
    {
      "cell_type": "code",
      "source": [
        "#imports\n",
        "import pandas as pd\n",
        "import matplotlib.pyplot as plt\n",
        "from sklearn.model_selection import StratifiedShuffleSplit\n",
        "from sklearn.metrics import precision_recall_fscore_support as score\n",
        "from sklearn.metrics import confusion_matrix, accuracy_score, roc_auc_score\n",
        "\n",
        "from sklearn.neighbors import KNeighborsClassifier\n",
        "from sklearn.ensemble import RandomForestClassifier, AdaBoostClassifier\n",
        "from sklearn.linear_model import Perceptron"
      ],
      "metadata": {
        "id": "c8aHyRXZeFOE"
      },
      "execution_count": 10,
      "outputs": []
    },
    {
      "cell_type": "code",
      "source": [
        "#data preperation\n",
        "df = pd.DataFrame(pd.read_csv(\"creditcard.csv\"))\n",
        "\n",
        "X_data = df[['V11', 'V12', 'V14', 'V16', 'V27', 'V28']]\n",
        "y_data = df[['Class']]\n",
        "\n",
        "sss = StratifiedShuffleSplit(n_splits=1, test_size=0.3, random_state=42)\n",
        "train_index, test_index = next(sss.split(X_data, y_data))\n",
        "\n",
        "X_train = X_data.loc[train_index]\n",
        "y_train = y_data.loc[train_index]\n",
        "\n",
        "X_test = X_data.loc[test_index]\n",
        "y_test = y_data.loc[test_index]"
      ],
      "metadata": {
        "id": "aoOg0gN-dPPE"
      },
      "execution_count": 8,
      "outputs": []
    },
    {
      "cell_type": "markdown",
      "source": [
        "KNN Classifier"
      ],
      "metadata": {
        "id": "JL897ROFhupy"
      }
    },
    {
      "cell_type": "code",
      "source": [
        "knn = KNeighborsClassifier()"
      ],
      "metadata": {
        "id": "XOMi1UPVh-2I"
      },
      "execution_count": 14,
      "outputs": []
    },
    {
      "cell_type": "markdown",
      "source": [
        "Random Forest"
      ],
      "metadata": {
        "id": "Dyvdfz_uhyFy"
      }
    },
    {
      "cell_type": "code",
      "source": [
        "randforest = RandomForestClassifier()"
      ],
      "metadata": {
        "id": "IlMBLnSniBpI"
      },
      "execution_count": 13,
      "outputs": []
    },
    {
      "cell_type": "markdown",
      "source": [
        "AdaBoost"
      ],
      "metadata": {
        "id": "_zafqajBh0Sv"
      }
    },
    {
      "cell_type": "code",
      "source": [
        "ada = AdaBoostClassifier()"
      ],
      "metadata": {
        "id": "Yg1NHWmQiCLx"
      },
      "execution_count": 12,
      "outputs": []
    },
    {
      "cell_type": "markdown",
      "source": [
        "Perceptron (Neural Network)"
      ],
      "metadata": {
        "id": "BmETHywph2tI"
      }
    },
    {
      "cell_type": "code",
      "source": [
        "perceptron = Perceptron()"
      ],
      "metadata": {
        "id": "suJYgh9OiDPi"
      },
      "execution_count": 11,
      "outputs": []
    },
    {
      "cell_type": "markdown",
      "source": [
        "Preprocessing/Feature Analysis"
      ],
      "metadata": {
        "id": "WkcLXAfcdeHp"
      }
    },
    {
      "cell_type": "code",
      "execution_count": null,
      "metadata": {
        "id": "SJMqpKVkcoOg"
      },
      "outputs": [],
      "source": [
        "#create dataframes\n",
        "\n",
        "df = pd.DataFrame(pd.read_csv(\"creditcard.csv\"))\n",
        "\n",
        "frauds = df.where(df[\"Class\"] == 1)\n",
        "frauds.dropna(inplace=True)\n",
        "print(frauds.head())\n",
        "\n",
        "legit = df.where(df[\"Class\"] == 0)\n",
        "legit.dropna(inplace=True)\n",
        "\n",
        "legit = legit.sample(frac=0.005, replace=False, random_state=1)"
      ]
    },
    {
      "cell_type": "code",
      "execution_count": null,
      "metadata": {
        "id": "SnbBJKjycoOh"
      },
      "outputs": [],
      "source": [
        "#plots\n",
        "plt.scatter(frauds['Time'], frauds['V1'], color=\"red\", label='Fraudulent')\n",
        "plt.scatter(legit['Time'], legit['V1'], color=\"blue\", label='Legitimate')\n",
        "\n",
        "plt.title(\"V1\")\n",
        "plt.xlabel('Time Elapsed From First Transaction')\n",
        "plt.legend()\n",
        "plt.show()\n",
        "\n",
        "plt.scatter(frauds['Time'], frauds['V2'], color=\"red\", label='Fraudulent')\n",
        "plt.scatter(legit['Time'], legit['V2'], color=\"blue\", label='Legitimate')\n",
        "\n",
        "plt.title(\"V2\")\n",
        "plt.xlabel('Time Elapsed From First Transaction')\n",
        "plt.legend()\n",
        "plt.show()\n",
        "\n",
        "plt.scatter(frauds['Time'], frauds['V3'], color=\"red\", label='Fraudulent')\n",
        "plt.scatter(legit['Time'], legit['V3'], color=\"blue\", label='Legitimate')\n",
        "\n",
        "plt.title(\"V3\")\n",
        "plt.xlabel('Time Elapsed From First Transaction')\n",
        "plt.legend()\n",
        "plt.show()\n",
        "\n",
        "plt.scatter(frauds['Time'], frauds['V4'], color=\"red\", label='Fraudulent')\n",
        "plt.scatter(legit['Time'], legit['V4'], color=\"blue\", label='Legitimate')\n",
        "\n",
        "plt.title(\"V4\")\n",
        "plt.xlabel('Time Elapsed From First Transaction')\n",
        "plt.legend()\n",
        "plt.show()\n",
        "\n",
        "plt.scatter(frauds['Time'], frauds['V5'], color=\"red\", label='Fraudulent')\n",
        "plt.scatter(legit['Time'], legit['V5'], color=\"blue\", label='Legitimate')\n",
        "\n",
        "plt.title(\"V5\")\n",
        "plt.xlabel('Time Elapsed From First Transaction')\n",
        "plt.legend()\n",
        "plt.show()\n",
        "\n",
        "plt.scatter(frauds['Time'], frauds['V6'], color=\"red\", label='Fraudulent')\n",
        "plt.scatter(legit['Time'], legit['V6'], color=\"blue\", label='Legitimate')\n",
        "\n",
        "plt.title(\"V6\")\n",
        "plt.xlabel('Time Elapsed From First Transaction')\n",
        "plt.legend()\n",
        "plt.show()\n",
        "\n",
        "plt.scatter(frauds['Time'], frauds['V7'], color=\"red\", label='Fraudulent')\n",
        "plt.scatter(legit['Time'], legit['V7'], color=\"blue\", label='Legitimate')\n",
        "\n",
        "plt.title(\"V7\")\n",
        "plt.xlabel('Time Elapsed From First Transaction')\n",
        "plt.legend()\n",
        "plt.show()\n",
        "\n",
        "plt.scatter(frauds['Time'], frauds['V8'], color=\"red\", label='Fraudulent')\n",
        "plt.scatter(legit['Time'], legit['V8'], color=\"blue\", label='Legitimate')\n",
        "\n",
        "plt.title(\"V8\")\n",
        "plt.xlabel('Time Elapsed From First Transaction')\n",
        "plt.legend()\n",
        "plt.show()\n",
        "\n",
        "plt.scatter(frauds['Time'], frauds['V9'], color=\"red\", label='Fraudulent')\n",
        "plt.scatter(legit['Time'], legit['V9'], color=\"blue\", label='Legitimate')\n",
        "\n",
        "plt.title(\"V9\")\n",
        "plt.xlabel('Time Elapsed From First Transaction')\n",
        "plt.legend()\n",
        "plt.show()\n",
        "\n",
        "plt.scatter(frauds['Time'], frauds['V10'], color=\"red\", label='Fraudulent')\n",
        "plt.scatter(legit['Time'], legit['V10'], color=\"blue\", label='Legitimate')\n",
        "\n",
        "plt.title(\"V10\")\n",
        "plt.xlabel('Time Elapsed From First Transaction')\n",
        "plt.legend()\n",
        "plt.show()\n",
        "\n",
        "plt.scatter(frauds['Time'], frauds['V11'], color=\"red\", label='Fraudulent')\n",
        "plt.scatter(legit['Time'], legit['V11'], color=\"blue\", label='Legitimate')\n",
        "\n",
        "plt.title(\"V11\")\n",
        "plt.xlabel('Time Elapsed From First Transaction')\n",
        "plt.legend()\n",
        "plt.show()\n",
        "\n",
        "plt.scatter(frauds['Time'], frauds['V12'], color=\"red\", label='Fraudulent')\n",
        "plt.scatter(legit['Time'], legit['V12'], color=\"blue\", label='Legitimate')\n",
        "\n",
        "plt.title(\"V12\")\n",
        "plt.xlabel('Time Elapsed From First Transaction')\n",
        "plt.legend()\n",
        "plt.show()\n",
        "\n",
        "plt.scatter(frauds['Time'], frauds['V13'], color=\"red\", label='Fraudulent')\n",
        "plt.scatter(legit['Time'], legit['V13'], color=\"blue\", label='Legitimate')\n",
        "\n",
        "plt.title(\"V13\")\n",
        "plt.xlabel('Time Elapsed From First Transaction')\n",
        "plt.legend()\n",
        "plt.show()\n",
        "\n",
        "plt.scatter(frauds['Time'], frauds['V14'], color=\"red\", label='Fraudulent')\n",
        "plt.scatter(legit['Time'], legit['V14'], color=\"blue\", label='Legitimate')\n",
        "\n",
        "plt.title(\"V14\")\n",
        "plt.xlabel('Time Elapsed From First Transaction')\n",
        "plt.legend()\n",
        "plt.show()\n",
        "\n",
        "plt.scatter(frauds['Time'], frauds['V15'], color=\"red\", label='Fraudulent')\n",
        "plt.scatter(legit['Time'], legit['V15'], color=\"blue\", label='Legitimate')\n",
        "\n",
        "plt.title(\"V15\")\n",
        "plt.xlabel('Time Elapsed From First Transaction')\n",
        "plt.legend()\n",
        "plt.show()\n",
        "\n",
        "plt.scatter(frauds['Time'], frauds['V16'], color=\"red\", label='Fraudulent')\n",
        "plt.scatter(legit['Time'], legit['V16'], color=\"blue\", label='Legitimate')\n",
        "\n",
        "plt.title(\"V16\")\n",
        "plt.xlabel('Time Elapsed From First Transaction')\n",
        "plt.legend()\n",
        "plt.show()\n",
        "\n",
        "plt.scatter(frauds['Time'], frauds['V17'], color=\"red\", label='Fraudulent')\n",
        "plt.scatter(legit['Time'], legit['V17'], color=\"blue\", label='Legitimate')\n",
        "\n",
        "plt.title(\"V17\")\n",
        "plt.xlabel('Time Elapsed From First Transaction')\n",
        "plt.legend()\n",
        "plt.show()\n",
        "\n",
        "plt.scatter(frauds['Time'], frauds['V18'], color=\"red\", label='Fraudulent')\n",
        "plt.scatter(legit['Time'], legit['V18'], color=\"blue\", label='Legitimate')\n",
        "\n",
        "plt.title(\"V18\")\n",
        "plt.xlabel('Time Elapsed From First Transaction')\n",
        "plt.legend()\n",
        "plt.show()\n",
        "\n",
        "plt.scatter(frauds['Time'], frauds['V19'], color=\"red\", label='Fraudulent')\n",
        "plt.scatter(legit['Time'], legit['V19'], color=\"blue\", label='Legitimate')\n",
        "\n",
        "plt.title(\"V19\")\n",
        "plt.xlabel('Time Elapsed From First Transaction')\n",
        "plt.legend()\n",
        "plt.show()\n",
        "\n",
        "plt.scatter(frauds['Time'], frauds['V20'], color=\"red\", label='Fraudulent')\n",
        "plt.scatter(legit['Time'], legit['V20'], color=\"blue\", label='Legitimate')\n",
        "\n",
        "plt.title(\"V20\")\n",
        "plt.xlabel('Time Elapsed From First Transaction')\n",
        "plt.legend()\n",
        "plt.show()\n",
        "\n",
        "plt.scatter(frauds['Time'], frauds['V21'], color=\"red\", label='Fraudulent')\n",
        "plt.scatter(legit['Time'], legit['V21'], color=\"blue\", label='Legitimate')\n",
        "\n",
        "plt.title(\"V21\")\n",
        "plt.xlabel('Time Elapsed From First Transaction')\n",
        "plt.legend()\n",
        "plt.show()\n",
        "\n",
        "plt.scatter(frauds['Time'], frauds['V22'], color=\"red\", label='Fraudulent')\n",
        "plt.scatter(legit['Time'], legit['V22'], color=\"blue\", label='Legitimate')\n",
        "\n",
        "plt.title(\"V22\")\n",
        "plt.xlabel('Time Elapsed From First Transaction')\n",
        "plt.legend()\n",
        "plt.show()\n",
        "\n",
        "plt.scatter(frauds['Time'], frauds['V23'], color=\"red\", label='Fraudulent')\n",
        "plt.scatter(legit['Time'], legit['V23'], color=\"blue\", label='Legitimate')\n",
        "\n",
        "plt.title(\"V23\")\n",
        "plt.xlabel('Time Elapsed From First Transaction')\n",
        "plt.legend()\n",
        "plt.show()\n",
        "\n",
        "plt.scatter(frauds['Time'], frauds['V24'], color=\"red\", label='Fraudulent')\n",
        "plt.scatter(legit['Time'], legit['V24'], color=\"blue\", label='Legitimate')\n",
        "\n",
        "plt.title(\"V24\")\n",
        "plt.xlabel('Time Elapsed From First Transaction')\n",
        "plt.legend()\n",
        "plt.show()\n",
        "\n",
        "plt.scatter(frauds['Time'], frauds['V25'], color=\"red\", label='Fraudulent')\n",
        "plt.scatter(legit['Time'], legit['V25'], color=\"blue\", label='Legitimate')\n",
        "\n",
        "plt.title(\"V25\")\n",
        "plt.xlabel('Time Elapsed From First Transaction')\n",
        "plt.legend()\n",
        "plt.show()\n",
        "\n",
        "plt.scatter(frauds['Time'], frauds['V26'], color=\"red\", label='Fraudulent')\n",
        "plt.scatter(legit['Time'], legit['V26'], color=\"blue\", label='Legitimate')\n",
        "\n",
        "plt.title(\"V26\")\n",
        "plt.xlabel('Time Elapsed From First Transaction')\n",
        "plt.legend()\n",
        "plt.show()\n",
        "\n",
        "\n",
        "plt.scatter(frauds['Time'], frauds['V27'], color=\"red\", label='Fraudulent')\n",
        "plt.scatter(legit['Time'], legit['V27'], color=\"blue\", label='Legitimate')\n",
        "\n",
        "plt.title(\"V27\")\n",
        "plt.xlabel('Time Elapsed From First Transaction')\n",
        "plt.legend()\n",
        "plt.show()\n",
        "\n",
        "plt.scatter(frauds['Time'], frauds['V28'], color=\"red\", label='Fraudulent')\n",
        "plt.scatter(legit['Time'], legit['V28'], color=\"blue\", label='Legitimate')\n",
        "\n",
        "plt.title(\"V28\")\n",
        "plt.xlabel('Time Elapsed From First Transaction')\n",
        "plt.legend()\n",
        "plt.show()\n",
        "\n",
        "plt.scatter(frauds['Time'], frauds['Amount'], color=\"red\", label='Fraudulent')\n",
        "plt.scatter(legit['Time'], legit['Amount'], color=\"blue\", label='Legitimate')\n",
        "\n",
        "plt.title(\"Amount\")\n",
        "plt.xlabel('Time Elapsed From First Transaction')\n",
        "plt.legend()\n",
        "plt.show()"
      ]
    }
  ],
  "metadata": {
    "kernelspec": {
      "display_name": ".venv",
      "language": "python",
      "name": "python3"
    },
    "language_info": {
      "codemirror_mode": {
        "name": "ipython",
        "version": 3
      },
      "file_extension": ".py",
      "mimetype": "text/x-python",
      "name": "python",
      "nbconvert_exporter": "python",
      "pygments_lexer": "ipython3",
      "version": "3.12.3"
    },
    "colab": {
      "provenance": []
    }
  },
  "nbformat": 4,
  "nbformat_minor": 0
}